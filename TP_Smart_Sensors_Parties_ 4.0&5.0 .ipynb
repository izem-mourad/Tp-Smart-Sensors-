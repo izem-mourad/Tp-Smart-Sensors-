{
 "cells": [
  {
   "cell_type": "markdown",
   "id": "34871347",
   "metadata": {},
   "source": [
    "<html>\n",
    "    <p style='background:#7B2B5D; color:#F79A23; font-size:20px; padding:10px;'><b>TP Smart Sensors : Apprentissage machine sur des données d’usinage\n",
    " </b></p>\n",
    "</html>"
   ]
  },
  {
   "cell_type": "markdown",
   "id": "ff39b12d",
   "metadata": {},
   "source": [
    "<html>\n",
    "    <p style='background:#FCDEB6; color:#7B2B5D; font-size:20px; padding:10px;'><b> Réalisé par : Mourad IZEM\n",
    "        </b></p>\n",
    "</html>"
   ]
  },
  {
   "cell_type": "markdown",
   "id": "f20b56e4",
   "metadata": {},
   "source": [
    "## PARTIE IV\n",
    "Dans cette partie, nous allons essayer de prédire l'erreur de perçage (Partie I) en incrémentant le nombre de trous utilisé pour l'apprentissage et pour prédire la valeur suivante de l'erreur à chaque fois ! "
   ]
  },
  {
   "cell_type": "code",
   "execution_count": 1,
   "id": "55e368e5",
   "metadata": {},
   "outputs": [
    {
     "data": {
      "text/html": [
       "<div>\n",
       "<style scoped>\n",
       "    .dataframe tbody tr th:only-of-type {\n",
       "        vertical-align: middle;\n",
       "    }\n",
       "\n",
       "    .dataframe tbody tr th {\n",
       "        vertical-align: top;\n",
       "    }\n",
       "\n",
       "    .dataframe thead th {\n",
       "        text-align: right;\n",
       "    }\n",
       "</style>\n",
       "<table border=\"1\" class=\"dataframe\">\n",
       "  <thead>\n",
       "    <tr style=\"text-align: right;\">\n",
       "      <th></th>\n",
       "      <th>P(x)</th>\n",
       "      <th>P(y)</th>\n",
       "      <th>D_In</th>\n",
       "      <th>D_In_max</th>\n",
       "      <th>D_In_min</th>\n",
       "      <th>D_Out</th>\n",
       "      <th>D_Out_max</th>\n",
       "      <th>D_Out_min</th>\n",
       "      <th>D_Cyl</th>\n",
       "      <th>D_Cyl_max</th>\n",
       "      <th>...</th>\n",
       "      <th>Max_F_T2&amp;T3</th>\n",
       "      <th>Max_F_T3&amp;T4</th>\n",
       "      <th>Moy_M_T1&amp;T2</th>\n",
       "      <th>Moy_M_T2&amp;T3</th>\n",
       "      <th>Moy_M_T3&amp;T4</th>\n",
       "      <th>Max_M_T1&amp;T2</th>\n",
       "      <th>Max_M_T2&amp;T3</th>\n",
       "      <th>Max_M_T3&amp;T4</th>\n",
       "      <th>Et_Consommee</th>\n",
       "      <th>nb_trous</th>\n",
       "    </tr>\n",
       "  </thead>\n",
       "  <tbody>\n",
       "    <tr>\n",
       "      <th>0</th>\n",
       "      <td>0</td>\n",
       "      <td>0</td>\n",
       "      <td>6361.101</td>\n",
       "      <td>6390.165</td>\n",
       "      <td>6337.091</td>\n",
       "      <td>6356.137</td>\n",
       "      <td>6379.951</td>\n",
       "      <td>6331.168</td>\n",
       "      <td>6360.885</td>\n",
       "      <td>6386.484880</td>\n",
       "      <td>...</td>\n",
       "      <td>60.192380</td>\n",
       "      <td>57.846468</td>\n",
       "      <td>0.039393</td>\n",
       "      <td>0.166414</td>\n",
       "      <td>0.224184</td>\n",
       "      <td>0.060992</td>\n",
       "      <td>0.265538</td>\n",
       "      <td>0.364416</td>\n",
       "      <td>203.421139</td>\n",
       "      <td>1</td>\n",
       "    </tr>\n",
       "    <tr>\n",
       "      <th>1</th>\n",
       "      <td>0</td>\n",
       "      <td>-14800</td>\n",
       "      <td>6360.422</td>\n",
       "      <td>6382.916</td>\n",
       "      <td>6336.803</td>\n",
       "      <td>6356.971</td>\n",
       "      <td>6385.830</td>\n",
       "      <td>6328.615</td>\n",
       "      <td>6361.655</td>\n",
       "      <td>6385.525948</td>\n",
       "      <td>...</td>\n",
       "      <td>68.722535</td>\n",
       "      <td>63.219992</td>\n",
       "      <td>0.042361</td>\n",
       "      <td>0.233616</td>\n",
       "      <td>0.338397</td>\n",
       "      <td>0.055130</td>\n",
       "      <td>0.404222</td>\n",
       "      <td>0.509717</td>\n",
       "      <td>311.625602</td>\n",
       "      <td>2</td>\n",
       "    </tr>\n",
       "    <tr>\n",
       "      <th>2</th>\n",
       "      <td>0</td>\n",
       "      <td>-29600</td>\n",
       "      <td>6361.120</td>\n",
       "      <td>6380.387</td>\n",
       "      <td>6342.378</td>\n",
       "      <td>6355.782</td>\n",
       "      <td>6368.560</td>\n",
       "      <td>6346.285</td>\n",
       "      <td>6361.503</td>\n",
       "      <td>6384.172075</td>\n",
       "      <td>...</td>\n",
       "      <td>74.660174</td>\n",
       "      <td>69.274525</td>\n",
       "      <td>0.044052</td>\n",
       "      <td>0.270518</td>\n",
       "      <td>0.380102</td>\n",
       "      <td>0.058972</td>\n",
       "      <td>0.471183</td>\n",
       "      <td>0.541733</td>\n",
       "      <td>346.459683</td>\n",
       "      <td>3</td>\n",
       "    </tr>\n",
       "    <tr>\n",
       "      <th>3</th>\n",
       "      <td>0</td>\n",
       "      <td>-44400</td>\n",
       "      <td>6361.548</td>\n",
       "      <td>6387.460</td>\n",
       "      <td>6335.587</td>\n",
       "      <td>6356.731</td>\n",
       "      <td>6374.355</td>\n",
       "      <td>6340.531</td>\n",
       "      <td>6362.440</td>\n",
       "      <td>6392.826233</td>\n",
       "      <td>...</td>\n",
       "      <td>80.390653</td>\n",
       "      <td>69.841536</td>\n",
       "      <td>0.046448</td>\n",
       "      <td>0.307440</td>\n",
       "      <td>0.406943</td>\n",
       "      <td>0.065431</td>\n",
       "      <td>0.506979</td>\n",
       "      <td>0.561767</td>\n",
       "      <td>365.956399</td>\n",
       "      <td>4</td>\n",
       "    </tr>\n",
       "    <tr>\n",
       "      <th>4</th>\n",
       "      <td>0</td>\n",
       "      <td>-59200</td>\n",
       "      <td>6361.723</td>\n",
       "      <td>6388.822</td>\n",
       "      <td>6333.843</td>\n",
       "      <td>6357.077</td>\n",
       "      <td>6380.657</td>\n",
       "      <td>6335.277</td>\n",
       "      <td>6362.719</td>\n",
       "      <td>6391.846588</td>\n",
       "      <td>...</td>\n",
       "      <td>86.261302</td>\n",
       "      <td>74.098430</td>\n",
       "      <td>0.048299</td>\n",
       "      <td>0.310324</td>\n",
       "      <td>0.421348</td>\n",
       "      <td>0.066481</td>\n",
       "      <td>0.517174</td>\n",
       "      <td>0.561583</td>\n",
       "      <td>385.516179</td>\n",
       "      <td>5</td>\n",
       "    </tr>\n",
       "  </tbody>\n",
       "</table>\n",
       "<p>5 rows × 40 columns</p>\n",
       "</div>"
      ],
      "text/plain": [
       "   P(x)   P(y)      D_In  D_In_max  D_In_min     D_Out  D_Out_max  D_Out_min  \\\n",
       "0     0      0  6361.101  6390.165  6337.091  6356.137   6379.951   6331.168   \n",
       "1     0 -14800  6360.422  6382.916  6336.803  6356.971   6385.830   6328.615   \n",
       "2     0 -29600  6361.120  6380.387  6342.378  6355.782   6368.560   6346.285   \n",
       "3     0 -44400  6361.548  6387.460  6335.587  6356.731   6374.355   6340.531   \n",
       "4     0 -59200  6361.723  6388.822  6333.843  6357.077   6380.657   6335.277   \n",
       "\n",
       "      D_Cyl    D_Cyl_max  ...  Max_F_T2&T3  Max_F_T3&T4  Moy_M_T1&T2  \\\n",
       "0  6360.885  6386.484880  ...    60.192380    57.846468     0.039393   \n",
       "1  6361.655  6385.525948  ...    68.722535    63.219992     0.042361   \n",
       "2  6361.503  6384.172075  ...    74.660174    69.274525     0.044052   \n",
       "3  6362.440  6392.826233  ...    80.390653    69.841536     0.046448   \n",
       "4  6362.719  6391.846588  ...    86.261302    74.098430     0.048299   \n",
       "\n",
       "   Moy_M_T2&T3  Moy_M_T3&T4  Max_M_T1&T2  Max_M_T2&T3  Max_M_T3&T4  \\\n",
       "0     0.166414     0.224184     0.060992     0.265538     0.364416   \n",
       "1     0.233616     0.338397     0.055130     0.404222     0.509717   \n",
       "2     0.270518     0.380102     0.058972     0.471183     0.541733   \n",
       "3     0.307440     0.406943     0.065431     0.506979     0.561767   \n",
       "4     0.310324     0.421348     0.066481     0.517174     0.561583   \n",
       "\n",
       "   Et_Consommee  nb_trous  \n",
       "0    203.421139         1  \n",
       "1    311.625602         2  \n",
       "2    346.459683         3  \n",
       "3    365.956399         4  \n",
       "4    385.516179         5  \n",
       "\n",
       "[5 rows x 40 columns]"
      ]
     },
     "execution_count": 1,
     "metadata": {},
     "output_type": "execute_result"
    }
   ],
   "source": [
    "import pandas as pd \n",
    "import matplotlib.pyplot as plt \n",
    "import numpy as np\n",
    "import seaborn as sns \n",
    "import warnings\n",
    "warnings.filterwarnings('ignore')\n",
    "df=pd.read_csv('data_capteurs.csv')\n",
    "df= df.drop(['Unnamed: 0'],axis=1)\n",
    "lst=[]\n",
    "for i in range(1,169+1):\n",
    "    lst.append(i)\n",
    "df['nb_trous']=lst\n",
    "df.head()"
   ]
  },
  {
   "cell_type": "code",
   "execution_count": 4,
   "id": "5677f92f",
   "metadata": {},
   "outputs": [],
   "source": [
    "df['erreur'] = df['D_In']-6360\n",
    "df['N'] = df['nb_trous']"
   ]
  },
  {
   "cell_type": "code",
   "execution_count": 12,
   "id": "1591a5f2",
   "metadata": {},
   "outputs": [],
   "source": [
    "from sklearn.neural_network import MLPRegressor\n",
    "from sklearn.metrics import mean_squared_error,accuracy_score\n",
    "from sklearn.metrics import r2_score, mean_absolute_error\n",
    "y_pred = []\n",
    "for i in range (1,168,1):\n",
    "    x = df['N'].head(i)\n",
    "    x= x.values.reshape(-1,1)\n",
    "    y = df['erreur'].head(i)\n",
    "    mlp = MLPRegressor(hidden_layer_sizes =  (100,), activation = 'relu',alpha =  0.0005, solver= 'lbfgs',max_iter = 500)\n",
    "    mlp.fit(x,y)\n",
    "    y_p = mlp.predict(df['N'][i+1].reshape(-1,1))\n",
    "    y_pred.append(y_p)"
   ]
  },
  {
   "cell_type": "code",
   "execution_count": 17,
   "id": "0728f6d1",
   "metadata": {},
   "outputs": [
    {
     "data": {
      "text/plain": [
       "<matplotlib.legend.Legend at 0x281e0d45790>"
      ]
     },
     "execution_count": 17,
     "metadata": {},
     "output_type": "execute_result"
    },
    {
     "data": {
      "image/png": "[encoded data removed]",
      "text/plain": [
       "<Figure size 432x288 with 1 Axes>"
      ]
     },
     "metadata": {
      "needs_background": "light"
     },
     "output_type": "display_data"
    }
   ],
   "source": [
    "plt.plot (y_pred)\n",
    "plt.plot(df['erreur'])\n",
    "plt.title(\"prédiction de l'erreur suivant après chaque perçage en exploitant aussi les anciens erreurs\")\n",
    "plt.xlabel(\"N\")\n",
    "plt.ylabel(\"erreur\")\n",
    "plt.legend(['erreur_pred','erreur_réel'])"
   ]
  },
  {
   "cell_type": "markdown",
   "id": "d1982375",
   "metadata": {},
   "source": [
    "- Plus que l'outil s'use plus qu'on arrive pas à bien prédir les erreurs suivants !! "
   ]
  },
  {
   "cell_type": "markdown",
   "id": "75b73f06",
   "metadata": {},
   "source": [
    "## PARTIE V\n",
    "La position du trou dans la plaque a-t-elle une influence dans les données, Comment pourrait-on véri\u001ber\n",
    "cette information ?\n"
   ]
  },
  {
   "cell_type": "markdown",
   "id": "ede41d56",
   "metadata": {},
   "source": [
    "- on peut la vérifier en vérifiant sa corrélation avec les autres donnée, ou l'utiliser pour prédire après la supprimer et voir si on va améliorer la prédiction ou non !"
   ]
  },
  {
   "cell_type": "code",
   "execution_count": 8,
   "id": "290372dd",
   "metadata": {
    "scrolled": false
   },
   "outputs": [
    {
     "data": {
      "text/plain": [
       "P(x)            1.000000\n",
       "nb_trous        0.454846\n",
       "N               0.454846\n",
       "Ra_Cyl          0.449361\n",
       "Max_F_T2&T3     0.434628\n",
       "Moy_F_T2&T3     0.426627\n",
       "Max_M_T1&T2     0.412028\n",
       "Max_F_T1&T2     0.410403\n",
       "Rz_Cyl          0.409920\n",
       "Moy_M_T1&T2     0.398960\n",
       "Max_F_T3&T4     0.398413\n",
       "Moy_F_T1&T2     0.398088\n",
       "Moy_M_T2&T3     0.390617\n",
       "Ra_In           0.370059\n",
       "Rq_Cyl          0.346336\n",
       "Moy_F_T3&T4     0.335781\n",
       "Max_M_T2&T3     0.318948\n",
       "Rt_Cyl          0.308959\n",
       "Rz_Cyl_max      0.302180\n",
       "Et_Consommee    0.265120\n",
       "Max_M_T3&T4     0.263897\n",
       "Moy_M_T3&T4     0.205551\n",
       "Rz_In           0.135635\n",
       "Rq_In           0.109046\n",
       "D_Out_min       0.056658\n",
       "D_Cyl_max       0.001562\n",
       "Rt_In          -0.008458\n",
       "Rz_In_max      -0.022103\n",
       "P(y)           -0.039003\n",
       "D_In_max       -0.083840\n",
       "Ra_Out         -0.126732\n",
       "Rq_Out         -0.167371\n",
       "Rz_Out         -0.191061\n",
       "Rz_Out_max     -0.216616\n",
       "Rt_Out         -0.216643\n",
       "D_In_min       -0.220984\n",
       "D_Cyl_min      -0.269054\n",
       "D_Out          -0.290150\n",
       "D_Out_max      -0.317829\n",
       "D_In           -0.527527\n",
       "erreur         -0.527527\n",
       "D_Cyl          -0.542085\n",
       "Name: P(x), dtype: float64"
      ]
     },
     "execution_count": 8,
     "metadata": {},
     "output_type": "execute_result"
    }
   ],
   "source": [
    "d = df.corr()\n",
    "d['P(x)'].sort_values(ascending = False)"
   ]
  },
  {
   "cell_type": "markdown",
   "id": "858237dd",
   "metadata": {},
   "source": [
    "- P(x) est corrélée avec le nb_trous et Ra_Cyl en premier lieu !"
   ]
  },
  {
   "cell_type": "code",
   "execution_count": 9,
   "id": "4a141668",
   "metadata": {
    "scrolled": false
   },
   "outputs": [
    {
     "data": {
      "text/plain": [
       "P(y)            1.000000\n",
       "Rz_Out          0.055874\n",
       "Rz_Out_max      0.052391\n",
       "Rt_Out          0.051308\n",
       "Rq_Out          0.051000\n",
       "D_Out_max       0.047778\n",
       "Ra_Out          0.045455\n",
       "D_In_min        0.034484\n",
       "Rt_In           0.032996\n",
       "Rz_In_max       0.030240\n",
       "Max_M_T3&T4     0.000750\n",
       "Rq_In          -0.020064\n",
       "Max_M_T2&T3    -0.025338\n",
       "D_Cyl_max      -0.025830\n",
       "Moy_M_T3&T4    -0.028352\n",
       "Rz_In          -0.029169\n",
       "Max_F_T1&T2    -0.032352\n",
       "Rz_Cyl         -0.035464\n",
       "Moy_F_T1&T2    -0.036050\n",
       "Et_Consommee   -0.037734\n",
       "P(x)           -0.039003\n",
       "Moy_M_T2&T3    -0.041262\n",
       "Max_F_T2&T3    -0.050707\n",
       "Moy_F_T2&T3    -0.054281\n",
       "D_Cyl_min      -0.059242\n",
       "Moy_F_T3&T4    -0.059422\n",
       "Max_F_T3&T4    -0.060509\n",
       "Moy_M_T1&T2    -0.063027\n",
       "Max_M_T1&T2    -0.064856\n",
       "Rz_Cyl_max     -0.068729\n",
       "Rt_Cyl         -0.070861\n",
       "nb_trous       -0.070947\n",
       "N              -0.070947\n",
       "Ra_Cyl         -0.073037\n",
       "Rq_Cyl         -0.073509\n",
       "D_Out_min      -0.081088\n",
       "D_Out          -0.086935\n",
       "D_In           -0.107402\n",
       "erreur         -0.107402\n",
       "Ra_In          -0.117160\n",
       "D_In_max       -0.152549\n",
       "D_Cyl          -0.177112\n",
       "Name: P(y), dtype: float64"
      ]
     },
     "execution_count": 9,
     "metadata": {},
     "output_type": "execute_result"
    }
   ],
   "source": [
    "d = df.corr()\n",
    "d['P(y)'].sort_values(ascending = False)"
   ]
  },
  {
   "cell_type": "markdown",
   "id": "b357e0ef",
   "metadata": {},
   "source": [
    "- P(y) est corrélée avec les rugosités Rz_Out, Rz_Out_max et Rt_Out en premier lieu !"
   ]
  },
  {
   "cell_type": "code",
   "execution_count": null,
   "id": "8df5a581",
   "metadata": {},
   "outputs": [],
   "source": []
  }
 ],
 "metadata": {
  "kernelspec": {
   "display_name": "Python 3",
   "language": "python",
   "name": "python3"
  },
  "language_info": {
   "codemirror_mode": {
    "name": "ipython",
    "version": 3
   },
   "file_extension": ".py",
   "mimetype": "text/x-python",
   "name": "python",
   "nbconvert_exporter": "python",
   "pygments_lexer": "ipython3",
   "version": "3.8.8"
  }
 },
 "nbformat": 4,
 "nbformat_minor": 5
}
